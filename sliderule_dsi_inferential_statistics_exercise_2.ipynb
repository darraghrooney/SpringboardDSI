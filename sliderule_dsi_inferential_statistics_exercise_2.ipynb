{
 "cells": [
  {
   "cell_type": "markdown",
   "metadata": {},
   "source": [
    "\n",
    "### Examining racial discrimination in the US job market\n",
    "\n",
    "#### Background\n",
    "Racial discrimination continues to be pervasive in cultures throughout the world. Researchers examined the level of racial discrimination in the United States labor market by randomly assigning identical résumés black-sounding or white-sounding names and observing the impact on requests for interviews from employers.\n",
    "\n",
    "#### Data\n",
    "In the dataset provided, each row represents a resume. The 'race' column has two values, 'b' and 'w', indicating black-sounding and white-sounding. The column 'call' has two values, 1 and 0, indicating whether the resume received a call from employers or not.\n",
    "\n",
    "Note that the 'b' and 'w' values in race are assigned randomly to the resumes.\n",
    "\n",
    "#### Exercise\n",
    "You will perform a statistical analysis to establish whether race has a significant impact on the rate of callbacks for resumes.\n",
    "\n",
    "Answer the following questions **in this notebook below and submit to your Github account**. \n",
    "\n",
    "   1. What test is appropriate for this problem? Does CLT apply?\n",
    "   2. What are the null and alternate hypotheses?\n",
    "   3. Compute margin of error, confidence interval, and p-value.\n",
    "   4. Discuss statistical significance.\n",
    "\n",
    "You can include written notes in notebook cells using Markdown: \n",
    "   - In the control panel at the top, choose Cell > Cell Type > Markdown\n",
    "   - Markdown syntax: http://nestacms.com/docs/creating-content/markdown-cheat-sheet\n",
    "\n",
    "\n",
    "#### Resources\n",
    "+ Experiment information and data source: http://www.povertyactionlab.org/evaluation/discrimination-job-market-united-states\n",
    "+ Scipy statistical methods: http://docs.scipy.org/doc/scipy/reference/stats.html \n",
    "+ Markdown syntax: http://nestacms.com/docs/creating-content/markdown-cheat-sheet\n",
    "\n",
    "****"
   ]
  },
  {
   "cell_type": "markdown",
   "metadata": {},
   "source": [
    "### Question 1\n",
    "\n",
    "We have two binomial variables which approach normal variables for large $np$ and $n(1-p)$. The rule of thumb is $np > 10$ and $n(1-p) > 10$. As we see, our lowest count is 157, so the Central Limit Theorem is valid:  "
   ]
  },
  {
   "cell_type": "code",
   "execution_count": 2,
   "metadata": {
    "collapsed": false
   },
   "outputs": [
    {
     "name": "stdout",
     "output_type": "stream",
     "text": [
      "157.0 2278.0 0.064476386037\n",
      "235.0 2200.0 0.0965092402464\n"
     ]
    }
   ],
   "source": [
    "import pandas as pd\n",
    "import numpy as np\n",
    "from scipy import stats\n",
    "import math \n",
    "data = pd.io.stata.read_stata('data/us_job_market_discrimination.dta')\n",
    "\n",
    "Obs_bc, Obs_bn = sum(data[data.race=='b'].call), sum(data.race=='b') - sum(data[data.race=='b'].call)\n",
    "Obs_wc, Obs_wn = sum(data[data.race=='w'].call), sum(data.race=='w') - sum(data[data.race=='w'].call)\n",
    "\n",
    "Obs_b, Obs_w = Obs_bc+Obs_bn, Obs_wc+Obs_wn\n",
    "Obs_tot = Obs_b + Obs_w\n",
    "Obs_arr = np.array([[Obs_bc, Obs_bn],[Obs_wc, Obs_wn]])\n",
    "\n",
    "p_b, p_w = Obs_bc/Obs_b, Obs_wc/Obs_w\n",
    "\n",
    "print Obs_bc, Obs_bn, p_b\n",
    "print Obs_wc, Obs_wn, p_w"
   ]
  },
  {
   "cell_type": "markdown",
   "metadata": {},
   "source": [
    "So we can use a z-test.\n",
    "\n",
    "### Exercise 2\n",
    "\n",
    "We want to compare the difference in proportions, $p_b-p_w$, to zero. Since we suspect that black applicants are discriminated against, we should use the null hypothesis that $p_b-p_w \\le 0$ and an alternate hypothesis of $p_b-p_w>0$."
   ]
  },
  {
   "cell_type": "markdown",
   "metadata": {},
   "source": [
    "### Question 3\n",
    "\n",
    "Computations:"
   ]
  },
  {
   "cell_type": "code",
   "execution_count": 27,
   "metadata": {
    "collapsed": false
   },
   "outputs": [
    {
     "name": "stdout",
     "output_type": "stream",
     "text": [
      "The margin of error is: 0.0136770209928\n",
      "The 95% confidence interval is: [ -0.0457098752023, -0.0183558332166 ]\n",
      "The p-value is: 2.21179825988e-06\n"
     ]
    }
   ],
   "source": [
    "var_b = p_b*(1-p_b)/Obs_b\n",
    "var_w = p_b*(1-p_w)/Obs_w\n",
    "sig = math.sqrt(sig_b + sig_w)\n",
    "me = sig*stats.norm.ppf(0.975)\n",
    "print \"The margin of error is: \" + str(me)\n",
    "mdiff = p_b-p_w\n",
    "\n",
    "print \"The 95% confidence interval is: [ \" + str(mdiff-me)+ \", \" + str(mdiff+me) + \" ]\"\n",
    "\n",
    "z = abs(mdiff/sig)\n",
    "print \"The p-value is: \" + str(1-stats.norm.cdf(z))\n"
   ]
  },
  {
   "cell_type": "markdown",
   "metadata": {},
   "source": [
    "### Question 4\n",
    "\n",
    "The above calculations strongly support the alternate hypothesis. We are 95% confident that the call-back rate for black applications is between 1.84 and 4.57 percent worse than for white applicants. Conversely, if call-backs were truly color-blind, there is only a 0.0002212 percent chance that we would see data as extreme as we have.\n",
    "\n",
    "Note that our conclusions assume no sampling bias. Firstly, color assignment of resumes must have been blind to actual merit of the resumes. Also, the companies to which resumes were sent must have sampled randomly. \n",
    "\n"
   ]
  },
  {
   "cell_type": "code",
   "execution_count": null,
   "metadata": {
    "collapsed": true
   },
   "outputs": [],
   "source": []
  }
 ],
 "metadata": {
  "kernelspec": {
   "display_name": "Python 2",
   "language": "python",
   "name": "python2"
  },
  "language_info": {
   "codemirror_mode": {
    "name": "ipython",
    "version": 2
   },
   "file_extension": ".py",
   "mimetype": "text/x-python",
   "name": "python",
   "nbconvert_exporter": "python",
   "pygments_lexer": "ipython2",
   "version": "2.7.11"
  }
 },
 "nbformat": 4,
 "nbformat_minor": 0
}
